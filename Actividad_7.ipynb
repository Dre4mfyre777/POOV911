{
  "nbformat": 4,
  "nbformat_minor": 0,
  "metadata": {
    "colab": {
      "provenance": [],
      "authorship_tag": "ABX9TyO3Dyi3oWUTwJ0b0TXivPCH",
      "include_colab_link": true
    },
    "kernelspec": {
      "name": "python3",
      "display_name": "Python 3"
    },
    "language_info": {
      "name": "python"
    }
  },
  "cells": [
    {
      "cell_type": "markdown",
      "metadata": {
        "id": "view-in-github",
        "colab_type": "text"
      },
      "source": [
        "<a href=\"https://colab.research.google.com/github/Dre4mfyre777/POOV911/blob/main/Actividad_7.ipynb\" target=\"_parent\"><img src=\"https://colab.research.google.com/assets/colab-badge.svg\" alt=\"Open In Colab\"/></a>"
      ]
    },
    {
      "cell_type": "code",
      "source": [
        "!pip install cryptography"
      ],
      "metadata": {
        "colab": {
          "base_uri": "https://localhost:8080/"
        },
        "id": "P5og1j4i8AsR",
        "outputId": "701f7f7b-27f0-4e35-c549-1192e996cb46"
      },
      "execution_count": 2,
      "outputs": [
        {
          "output_type": "stream",
          "name": "stdout",
          "text": [
            "Requirement already satisfied: cryptography in /usr/local/lib/python3.10/dist-packages (43.0.1)\n",
            "Requirement already satisfied: cffi>=1.12 in /usr/local/lib/python3.10/dist-packages (from cryptography) (1.17.1)\n",
            "Requirement already satisfied: pycparser in /usr/local/lib/python3.10/dist-packages (from cffi>=1.12->cryptography) (2.22)\n"
          ]
        }
      ]
    },
    {
      "cell_type": "code",
      "execution_count": 15,
      "metadata": {
        "colab": {
          "base_uri": "https://localhost:8080/"
        },
        "id": "xHIFTfsj43j9",
        "outputId": "85fd2501-b3d1-4721-96e8-0388c1423bb0"
      },
      "outputs": [
        {
          "output_type": "stream",
          "name": "stdout",
          "text": [
            "Datos descodificados:\n",
            " modelo Corolla and Rojo y color 120\n"
          ]
        }
      ],
      "source": [
        "from cryptography.fernet import Fernet\n",
        "\n",
        "key = Fernet.generate_key()\n",
        "\n",
        "class Auto:\n",
        "    def __init__(self, llave, marca, modelo, color, velocidad_maxima, precio):\n",
        "        self.llave = Fernet(key)\n",
        "        self.marca = marca\n",
        "        self.modelo = modelo\n",
        "        self.marca = self.llave.encrypt(self.marca.encode()) #encriptar\n",
        "        self.modelo = self.llave.encrypt(self.modelo.encode()) # encriptar\n",
        "        self.color = color\n",
        "        self.velocidad_maxima = velocidad_maxima\n",
        "        self.precio = precio\n",
        "\n",
        "    def __str__(self):\n",
        "        return f\"Auto {self.marca} {self.modelo} ({self.color})\"\n",
        "\n",
        "    def __eq__(self, otro_auto):\n",
        "        return self.precio == otro_auto.precio\n",
        "\n",
        "    def __lt__(self, otro_auto):\n",
        "        return self.velocidad_maxima < otro_auto.velocidad_maxima\n",
        "\n",
        "    def __gt__(self, otro_auto):\n",
        "        return self.velocidad_maxima > otro_auto.velocidad_maxima\n",
        "\n",
        "    def acelerar(self, incremento):\n",
        "        print(f\"{self} acelerando...\")\n",
        "        self.velocidad_maxima += incremento\n",
        "\n",
        "    def frenar(self, decremento):\n",
        "        print(f\"{self} frenando...\")\n",
        "        self.velocidad_maxima -= decremento\n",
        "\n",
        "    def pintar(self, nuevo_color):\n",
        "        print(f\"{self} pintado de {nuevo_color}\")\n",
        "        self.color = nuevo_color\n",
        "\n",
        "    def aumentar_precio(self, porcentaje):\n",
        "        print(f\"Aumentando el precio de {self} en un {porcentaje}%\")\n",
        "        self.precio *= (1 + porcentaje / 100)\n",
        "\n",
        "    def reducir_precio(self, porcentaje):\n",
        "        print(f\"Reduciendo el precio de {self} en un {porcentaje}%\")\n",
        "        self.precio *= (1 - porcentaje / 100)\n",
        "\n",
        "    \"\"\"\n",
        "    def cifrar(self):\n",
        "        Modelo_Cifrado = self.llave.encrypt(self.modelo.encode())\n",
        "        Marca_cifrado = self.llave.encrypt(self.marca.encode())\n",
        "        return (f\"modelo{Modelo_Cifrado} and {Marca_cifrado} y color {self.color}\")\n",
        "    \"\"\"\n",
        "\n",
        "    def descifrar(self):\n",
        "      Marca_descifrada = self.llave.decrypt(self.modelo).decode()\n",
        "      Modelo_descifrado = self.llave.decrypt(self.marca).decode()\n",
        "      return (f\"modelo {Modelo_descifrado} and {Marca_descifrada} y color {self.color}\")\n",
        "\n",
        "\n",
        "def main():\n",
        "    auto1 = Auto(\"Toyota\", \"Corolla\", \"Rojo\", 120, 20000, key)\n",
        "    auto2 = Auto(\"Honda\", \"Civic\", \"Azul\", 140, 22000, key)\n",
        "    #print(auto1.__eq__(auto2))\n",
        "    #print(\"Datos codificados:\\n\", auto1.cifrar())\n",
        "    print(\"Datos descodificados:\\n\", auto1.descifrar())\n",
        "\n",
        "\n",
        "\n",
        "\n",
        "main()\n"
      ]
    }
  ]
}