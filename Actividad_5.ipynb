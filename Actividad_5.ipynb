{
  "nbformat": 4,
  "nbformat_minor": 0,
  "metadata": {
    "colab": {
      "provenance": [],
      "authorship_tag": "ABX9TyN4qzGP1ctVn97qmZpkuQDY",
      "include_colab_link": true
    },
    "kernelspec": {
      "name": "python3",
      "display_name": "Python 3"
    },
    "language_info": {
      "name": "python"
    }
  },
  "cells": [
    {
      "cell_type": "markdown",
      "metadata": {
        "id": "view-in-github",
        "colab_type": "text"
      },
      "source": [
        "<a href=\"https://colab.research.google.com/github/Dre4mfyre777/POOV911/blob/main/Actividad_5.ipynb\" target=\"_parent\"><img src=\"https://colab.research.google.com/assets/colab-badge.svg\" alt=\"Open In Colab\"/></a>"
      ]
    },
    {
      "cell_type": "code",
      "execution_count": null,
      "metadata": {
        "colab": {
          "base_uri": "https://localhost:8080/",
          "height": 297
        },
        "id": "0-L7Z1utBlNi",
        "outputId": "01acdfc4-9871-4d0a-8c0e-458083e2b6b0"
      },
      "outputs": [
        {
          "output_type": "error",
          "ename": "TypeError",
          "evalue": "id.__init__() missing 4 required positional arguments: 'nombre', 'edad', 'correo', and 'password'",
          "traceback": [
            "\u001b[0;31m---------------------------------------------------------------------------\u001b[0m",
            "\u001b[0;31mTypeError\u001b[0m                                 Traceback (most recent call last)",
            "\u001b[0;32m<ipython-input-5-0c928dbc3c4c>\u001b[0m in \u001b[0;36m<cell line: 53>\u001b[0;34m()\u001b[0m\n\u001b[1;32m     51\u001b[0m \u001b[0;34m\u001b[0m\u001b[0m\n\u001b[1;32m     52\u001b[0m \u001b[0;34m\u001b[0m\u001b[0m\n\u001b[0;32m---> 53\u001b[0;31m \u001b[0mmain\u001b[0m\u001b[0;34m(\u001b[0m\u001b[0;34m)\u001b[0m\u001b[0;34m\u001b[0m\u001b[0;34m\u001b[0m\u001b[0m\n\u001b[0m",
            "\u001b[0;32m<ipython-input-5-0c928dbc3c4c>\u001b[0m in \u001b[0;36mmain\u001b[0;34m()\u001b[0m\n\u001b[1;32m     47\u001b[0m \u001b[0;34m\u001b[0m\u001b[0m\n\u001b[1;32m     48\u001b[0m \u001b[0;32mdef\u001b[0m \u001b[0mmain\u001b[0m\u001b[0;34m(\u001b[0m\u001b[0;34m)\u001b[0m\u001b[0;34m:\u001b[0m\u001b[0;34m\u001b[0m\u001b[0;34m\u001b[0m\u001b[0m\n\u001b[0;32m---> 49\u001b[0;31m   \u001b[0mpersona1\u001b[0m\u001b[0;34m=\u001b[0m\u001b[0mid\u001b[0m\u001b[0;34m(\u001b[0m\u001b[0;34m)\u001b[0m\u001b[0;34m\u001b[0m\u001b[0;34m\u001b[0m\u001b[0m\n\u001b[0m\u001b[1;32m     50\u001b[0m \u001b[0;34m\u001b[0m\u001b[0m\n\u001b[1;32m     51\u001b[0m \u001b[0;34m\u001b[0m\u001b[0m\n",
            "\u001b[0;31mTypeError\u001b[0m: id.__init__() missing 4 required positional arguments: 'nombre', 'edad', 'correo', and 'password'"
          ]
        }
      ],
      "source": [
        "import re\n",
        "\n",
        "class id:\n",
        "  def __init__(self, nombre, edad, correo, password):\n",
        "    self.nombre = self.name()\n",
        "    self.edad = self.age()\n",
        "    self.correo = self.email()\n",
        "    self,password = self.contreseña()\n",
        "\n",
        "  #Metodo para leer nombre\n",
        "  def name(self):\n",
        "    pattern = r\"^[A-Za-z]+(?: [A-Za-z]+)*$\"\n",
        "    nombre = input(\"Ingrese su nombre y apellido\\n =\")\n",
        "    if re.match(pattern, nombre):\n",
        "        return True\n",
        "    else:\n",
        "        return False\n",
        "\n",
        "  #Metodo para leer edad\n",
        "  def age(self):\n",
        "    pattern = r\"^(100|[1-9]?[0-9])$\"\n",
        "    bandera=True\n",
        "    while bandera:\n",
        "      edad=input(\"Escribe tu edad de 0-100: \")\n",
        "      if re.match(pattern, edad):\n",
        "        return int(edad)\n",
        "      else:\n",
        "        return False\n",
        "\n",
        "  def email(self):\n",
        "    pattern = r\"^[a-zA-Z0-9._%+-]+@[a-zA-Z0-9.-]+\\.[a-zA-Z]{2,}$\"\n",
        "    email=input(\"Escribe tu email: \")\n",
        "    if re.match(pattern, email):\n",
        "         return True\n",
        "    else:\n",
        "        print(\"Intente de nuevo \")\n",
        "\n",
        "  def contreseña(self):\n",
        "    pattern = r\"^(?=.*[a-z])(?=.*[A-Z])(?=.*[\\W]).{8,}$\"\n",
        "    print(\"La contraseña debe tener al menos 8 caracteres, una letra mayúscula, una minúscula y un carácter especial.\")\n",
        "    contraseña=input(\"Escribe tu contraseña: \")\n",
        "    if re.match(pattern, contraseña):\n",
        "         return True\n",
        "    else:\n",
        "        print(\"Intente de nuevo \")\n",
        "\n",
        "\n",
        "def main():\n",
        "\n",
        "\n",
        "\n",
        "\n",
        "main()"
      ]
    },
    {
      "cell_type": "code",
      "source": [
        "import re\n",
        "\n",
        "class ID:\n",
        "    def __init__(self):\n",
        "        self.nombre = self.name()\n",
        "        self.edad = self.age()\n",
        "        self.correo = self.email()\n",
        "        self.password = self.contraseña()\n",
        "\n",
        "    # Método para leer nombre\n",
        "    def name(self):\n",
        "        pattern = r\"^[A-Za-z]+(?: [A-Za-z]+)*$\"\n",
        "        while True:\n",
        "            nombre = input(\"Ingrese su nombre y apellido: \")\n",
        "            if re.match(pattern, nombre):\n",
        "                return nombre\n",
        "            else:\n",
        "                print(\"Nombre no válido. Intente de nuevo.\")\n",
        "\n",
        "    # Método para leer edad\n",
        "    def age(self):\n",
        "        pattern = r\"^(100|[1-9]?[0-9])$\"\n",
        "        while True:\n",
        "            edad = input(\"Escribe tu edad de 0-100: \")\n",
        "            if re.match(pattern, edad):\n",
        "                return int(edad)\n",
        "            else:\n",
        "                print(\"Edad no válida. Intente de nuevo.\")\n",
        "\n",
        "    # Método para leer email\n",
        "    def email(self):\n",
        "        pattern = r\"^[a-zA-Z0-9._%+-]+@[a-zA-Z0-9.-]+\\.[a-zA-Z]{2,}$\"\n",
        "        while True:\n",
        "            email = input(\"Escribe tu email: \")\n",
        "            if re.match(pattern, email):\n",
        "                return email\n",
        "            else:\n",
        "                print(\"Email no válido. Intente de nuevo.\")\n",
        "\n",
        "    # Método para leer contraseña\n",
        "    def contraseña(self):\n",
        "        pattern = r\"^(?=.*[a-z])(?=.*[A-Z])(?=.*[\\W]).{8,}$\"\n",
        "        print(\"La contraseña debe tener al menos 8 caracteres, una letra mayúscula, una minúscula y un carácter especial.\")\n",
        "        while True:\n",
        "            contraseña = input(\"Escribe tu contraseña: \")\n",
        "            if re.match(pattern, contraseña):\n",
        "                return contraseña\n",
        "            else:\n",
        "                print(\"Contraseña no válida. Intente de nuevo.\")\n",
        "\n",
        "# Crear una instancia de la clase ID\n",
        "mi_id = ID()\n",
        "\n",
        "# Mostrar atributos\n",
        "print(f\"Nombre: {mi_id.nombre}\")\n",
        "print(f\"Edad: {mi_id.edad}\")\n",
        "print(f\"Email: {mi_id.correo}\")\n",
        "print(f\"Contraseña: {mi_id.password}\")\n"
      ],
      "metadata": {
        "colab": {
          "base_uri": "https://localhost:8080/"
        },
        "id": "UAWnv_iHZYFQ",
        "outputId": "7fcf97db-8a0f-4a4a-e33f-7d86157f6287"
      },
      "execution_count": null,
      "outputs": [
        {
          "output_type": "stream",
          "name": "stdout",
          "text": [
            "Ingrese su nombre y apellido: maria peep\n",
            "Escribe tu edad de 0-100: 33\n",
            "Escribe tu email: Maria@gmail.com\n",
            "La contraseña debe tener al menos 8 caracteres, una letra mayúscula, una minúscula y un carácter especial.\n",
            "Escribe tu contraseña: Wandamax8\n",
            "Contraseña no válida. Intente de nuevo.\n",
            "Escribe tu contraseña: Rhaenyra616.\n",
            "Nombre: maria peep\n",
            "Edad: 33\n",
            "Email: Maria@gmail.com\n",
            "Contraseña: Rhaenyra616.\n"
          ]
        }
      ]
    }
  ]
}